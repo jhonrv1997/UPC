{
  "nbformat": 4,
  "nbformat_minor": 0,
  "metadata": {
    "colab": {
      "provenance": []
    },
    "kernelspec": {
      "name": "python3",
      "display_name": "Python 3"
    },
    "language_info": {
      "name": "python"
    }
  },
  "cells": [
    {
      "cell_type": "markdown",
      "source": [
        "# Examen final\n",
        "\n",
        "Bienvenidos a su examen final.\n",
        "\n",
        "Ustedes, al ver la revolución de la IA, han decidido crear un cajero inteligente donde, a partir del uso de modelos de machine learning, se logre clasificar correctamente qué productos se quieren comprar. La idea es que las cajas de los supermercados sean autoservicio y que se evite el paso de escaneo de los productos, sino que el algoritmo reconozca automáticamente qué producto está llevando el cliente. Para eso van a hacer uso de este [dataset](https://github.com/marcusklasson/GroceryStoreDataset).\n",
        "\n",
        "Lo que tienen hacer es entrenar un modelo para predecir la clase del producto (las variables que dicen `[test|train]_class_one_array`) a partir de las imágenes `[test|train]_images_array`.\n",
        "\n",
        "A continuación les dejo el código que tienen que ejecutar para obtener los datos (les toma alrededor de 2 minutos ejecutar cada celda). Recuerden que la parte de entrenamiento se hace con los datos de entrenamiento y la evaluación con los datos de test.\n",
        "\n",
        "Dependiendo de la librería que utilicen, deberán hacer cierto preprocesamiento. Pueden usar GPU si la tienen disponible o la GPU que viene con Colab.\n",
        "\n",
        "\n",
        "\n"
      ],
      "metadata": {
        "id": "sOOYNRCycH1L"
      }
    },
    {
      "cell_type": "code",
      "execution_count": 1,
      "metadata": {
        "id": "YbqclnDtbaQx"
      },
      "outputs": [],
      "source": [
        "import requests\n",
        "import pandas as pd\n",
        "import numpy as np\n",
        "from PIL import Image\n",
        "from io import BytesIO\n",
        "\n",
        "# Parámetros\n",
        "base_url = 'https://raw.githubusercontent.com/marcusklasson/GroceryStoreDataset/master/dataset/'\n",
        "url_archivo = base_url + 'train.txt'\n",
        "max_samples = 1142\n",
        "target_size = (348, 348)\n",
        "\n",
        "df = (\n",
        "    pd.read_csv(\n",
        "        url_archivo,\n",
        "        header=None,\n",
        "        names=['file', 'class_one', 'class_two'],\n",
        "        dtype={'file': str, 'class_one': int, 'class_two': int}\n",
        "    )\n",
        "    .dropna()\n",
        "    .iloc[:max_samples]\n",
        "    .reset_index(drop=True)\n",
        ")\n",
        "\n",
        "def load_resize(path):\n",
        "    resp = requests.get(base_url + path)\n",
        "    resp.raise_for_status()\n",
        "    img = Image.open(BytesIO(resp.content))\n",
        "    return np.array(img.resize(target_size))\n",
        "\n",
        "train_images_array = np.stack([load_resize(p) for p in df['file']])\n",
        "train_class_one_array = df['class_one'].values\n",
        "train_class_two_array = df['class_two'].values\n"
      ]
    },
    {
      "cell_type": "code",
      "source": [
        "base_url = 'https://raw.githubusercontent.com/marcusklasson/GroceryStoreDataset/master/dataset/'\n",
        "url_archivo = base_url + 'test.txt'\n",
        "max_samples = 1117\n",
        "target_size = (348, 348)\n",
        "\n",
        "df = (\n",
        "    pd.read_csv(\n",
        "        url_archivo,\n",
        "        header=None,\n",
        "        names=['file', 'class_one', 'class_two'],\n",
        "        dtype={'file': str, 'class_one': int, 'class_two': int}\n",
        "    )\n",
        "    .dropna()\n",
        "    .iloc[:max_samples]\n",
        "    .reset_index(drop=True)\n",
        ")\n",
        "\n",
        "def load_resize(path):\n",
        "    resp = requests.get(base_url + path)\n",
        "    resp.raise_for_status()\n",
        "    img = Image.open(BytesIO(resp.content))\n",
        "    return np.array(img.resize(target_size))\n",
        "\n",
        "test_images_array = np.stack([load_resize(p) for p in df['file']])\n",
        "test_class_one_array = df['class_one'].values\n",
        "test_class_two_array = df['class_two'].values"
      ],
      "metadata": {
        "id": "UhlakHxjblPB"
      },
      "execution_count": 6,
      "outputs": []
    },
    {
      "cell_type": "markdown",
      "source": [
        "## Pregunta 1 (3 pts.)\n",
        "\n",
        "Entrena y evalúa 2 modelos de redes neuronales convolucionales:\n",
        "\n",
        "1. El primer modelo deberá tener una arquitectura que tú plantees. Puedes usar las capas que quieras.\n",
        "\n",
        "2. El segundo modelo deberá usar transfer learning, tomando como base Resnet50.\n",
        "\n",
        "3. Evalúa ambos modelos mostrando claramente las métricas y la matriz de confusión. Indica claramente qué modelo es mejor"
      ],
      "metadata": {
        "id": "DT_TVI-WdKh_"
      }
    },
    {
      "cell_type": "code",
      "source": [
        "# Escribe tu código aquí"
      ],
      "metadata": {
        "id": "Ji0lv9sddkwC"
      },
      "execution_count": null,
      "outputs": []
    },
    {
      "cell_type": "markdown",
      "source": [
        "## Pregunta 2 (3 pts.)\n",
        "\n",
        "Entrena un modelo de perceptrón multicapa (multilayer perceptron) para resolver el problema planteado.\n",
        "\n",
        "Muestra claramente las métricas y la matriz de confusión. Indica qué modelo es mejor"
      ],
      "metadata": {
        "id": "A_g3rH7TdmFc"
      }
    },
    {
      "cell_type": "code",
      "source": [
        "# Escribe tu código aquí"
      ],
      "metadata": {
        "id": "EV8M7FpTd1SX"
      },
      "execution_count": null,
      "outputs": []
    },
    {
      "cell_type": "markdown",
      "source": [
        "## Pregunta 3 (4 pts.)\n",
        "\n",
        "Entrena un modelo de machine learning tradicional (boosting o bagging) para resolver el problema planteado.\n",
        "\n",
        "Muestra claramente las métricas y la matriz de confusión. Indica qué modelo es mejor. Agrega una reflexión acerca de qué modelo usarías para el caso de uso planteado y por qué. Recuerda que la explicación tiene que estar en función al caso de uso. Respuestas genéricas tendran la mínima nota automáticamente."
      ],
      "metadata": {
        "id": "g0PMtZpbd2z_"
      }
    },
    {
      "cell_type": "code",
      "source": [
        "# Escribe tu código aquí"
      ],
      "metadata": {
        "id": "-dym3DWHeqcO"
      },
      "execution_count": null,
      "outputs": []
    }
  ]
}